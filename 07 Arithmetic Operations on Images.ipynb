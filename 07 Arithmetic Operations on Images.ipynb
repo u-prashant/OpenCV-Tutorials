{
 "cells": [
  {
   "cell_type": "markdown",
   "metadata": {},
   "source": [
    "# ARITHMETIC OPERATIONS ON IMAGES"
   ]
  },
  {
   "cell_type": "markdown",
   "metadata": {},
   "source": [
    "# Image Addition\n",
    "\n",
    "You can add two images by OpenCV function, ```cv2.add()``` or simply by numpy operation, ```res = img1 + img2```. Both images should be of same depth and type, or second image can just be a scalar value."
   ]
  },
  {
   "cell_type": "markdown",
   "metadata": {},
   "source": [
    "**Note** - There is a difference between OpenCV addition and Numpy addition. OpenCV addition is a saturated operation while Numpy addition is a modulo operation."
   ]
  },
  {
   "cell_type": "code",
   "execution_count": 1,
   "metadata": {},
   "outputs": [],
   "source": [
    "import numpy as np \n",
    "import cv2"
   ]
  },
  {
   "cell_type": "code",
   "execution_count": 2,
   "metadata": {},
   "outputs": [
    {
     "name": "stdout",
     "output_type": "stream",
     "text": [
      "[[255]]\n",
      "[4]\n"
     ]
    }
   ],
   "source": [
    "x = np.uint8([250])\n",
    "y = np.uint8([10])\n",
    "\n",
    "print(cv2.add(x,y)) # 250+10 = 260 => 255\n",
    "\n",
    "print(x+y)          # 250+10 = 260 % 256 = 4\n",
    "# OpenCV will provide a better result."
   ]
  },
  {
   "cell_type": "markdown",
   "metadata": {},
   "source": [
    "# Image Blending\n",
    "\n",
    "This is also image addition, but different weights are given to images so that it gives a feeling of blending or transparency. Images are added as per the equation below:\n",
    "\n",
    "        ```g(x) = (1-a)*img1 + a*img2```\n",
    "        \n",
    "By varying a from 0 to 1, we can perform a cool transition between one image to another.\n",
    "\n",
    "        ```dst = x.img1 + y.img2 + z```"
   ]
  },
  {
   "cell_type": "code",
   "execution_count": 3,
   "metadata": {},
   "outputs": [],
   "source": [
    "img1 = cv2.imread('robo1.png')\n",
    "img2 = cv2.imread('robo.png')\n",
    "\n",
    "x = 1.0\n",
    "y = 0.0\n",
    "while(1):\n",
    "    dst = cv2.addWeighted(img1,x,img2,y,0)\n",
    "    y += 0.1\n",
    "    y %= 1\n",
    "    x = 1-y\n",
    "    cv2.imshow('dst',dst)\n",
    "    k = cv2.waitKey(200) & 0xFF\n",
    "    if k == 27:\n",
    "        break\n",
    "cv2.destroyAllWindows()"
   ]
  },
  {
   "cell_type": "markdown",
   "metadata": {},
   "source": [
    "# Bitwise Operations\n",
    "\n",
    "This includes bitwise AND, OR, NOT and XOR operations. They will be highly useful while extracting any part of the image, defining and working with non-rectangular ROI etc. Below we will see an example on how to change a particular region of an image.\n",
    "\n",
    "I want to put logo above an image. If I add two images, it will change color. If I blend it, I get an transparent effect. But I want it to be opaque. If it was a rectangular region, I could use ROI as we did in last chapter. But Pepsi logo is a not a rectangular shape. So you can do it with bitwise operations as below:"
   ]
  },
  {
   "cell_type": "code",
   "execution_count": 4,
   "metadata": {},
   "outputs": [],
   "source": [
    "# Load 2 images\n",
    "img1 = cv2.imread('dog.jpg')\n",
    "img2 = cv2.imread('logo.jpg')\n",
    "\n",
    "# To put logo on top-left corner, I create a ROI\n",
    "rows, cols, channels = img2.shape\n",
    "roi = img1[0:rows, 0:cols]\n",
    "\n",
    "# Now create a mask of logo & create its inverse mask also\n",
    "img2gray = cv2.cvtColor(img2, cv2.COLOR_BGR2GRAY)\n",
    "ret, mask = cv2.threshold(img2gray, 100, 255, cv2.THRESH_BINARY)\n",
    "mask_inv = cv2.bitwise_not(mask)\n",
    "\n",
    "# Now black-out the area of logo in ROI\n",
    "img1_bg = cv2.bitwise_and(roi,roi,mask = mask)\n",
    "\n",
    "# Take only region of logo from logo image\n",
    "img2_fg = cv2.bitwise_and(img2,img2,mask = mask_inv)\n",
    "\n",
    "# Put logo in ROI and modify the main image\n",
    "dst = cv2.add(img1_bg,img2_fg)\n",
    "img1[0:rows, 0:cols] = dst\n",
    "\n",
    "cv2.imshow('image',img1)\n",
    "cv2.waitKey(0)\n",
    "cv2.destroyAllWindows()"
   ]
  }
 ],
 "metadata": {
  "kernelspec": {
   "display_name": "Python 3",
   "language": "python",
   "name": "python3"
  },
  "language_info": {
   "codemirror_mode": {
    "name": "ipython",
    "version": 3
   },
   "file_extension": ".py",
   "mimetype": "text/x-python",
   "name": "python",
   "nbconvert_exporter": "python",
   "pygments_lexer": "ipython3",
   "version": "3.5.5"
  }
 },
 "nbformat": 4,
 "nbformat_minor": 2
}
